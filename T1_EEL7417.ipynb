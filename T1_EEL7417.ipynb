{
  "nbformat": 4,
  "nbformat_minor": 0,
  "metadata": {
    "colab": {
      "name": "T1-EEL7417",
      "provenance": [],
      "toc_visible": true,
      "authorship_tag": "ABX9TyOJmxLQ1eUzEZ7jVq0g95mp",
      "include_colab_link": true
    },
    "kernelspec": {
      "name": "python3",
      "display_name": "Python 3"
    }
  },
  "cells": [
    {
      "cell_type": "markdown",
      "metadata": {
        "id": "view-in-github",
        "colab_type": "text"
      },
      "source": [
        "<a href=\"https://colab.research.google.com/github/canokaue/eel7417/blob/master/T1_EEL7417.ipynb\" target=\"_parent\"><img src=\"https://colab.research.google.com/assets/colab-badge.svg\" alt=\"Open In Colab\"/></a>"
      ]
    },
    {
      "cell_type": "markdown",
      "metadata": {
        "id": "62wNe213DV1d"
      },
      "source": [
        "# T1 Simulação\n",
        "#### Kaue Cano Souza - 18204680"
      ]
    },
    {
      "cell_type": "markdown",
      "metadata": {
        "id": "Og1dF1Hb03b3"
      },
      "source": [
        "## UFSC - Professor Dr. Leonardo da Silva Resende\n",
        "\n",
        "### EEL7417 - Fundamentos de Comunicação Digital"
      ]
    },
    {
      "cell_type": "markdown",
      "metadata": {
        "id": "Mmob-TbAD3i-"
      },
      "source": [
        "Importação de bibliotecas utilizadas\n"
      ]
    },
    {
      "cell_type": "code",
      "metadata": {
        "id": "4rXJ4ZWBDEmC"
      },
      "source": [
        "from pprint import pprint\n",
        "import random\n",
        "import numpy as np\n",
        "from scipy import stats\n",
        "import matplotlib.pyplot as plt"
      ],
      "execution_count": 5,
      "outputs": []
    },
    {
      "cell_type": "markdown",
      "metadata": {
        "id": "lRFwS8UREpg_"
      },
      "source": [
        "# Q1"
      ]
    },
    {
      "cell_type": "markdown",
      "metadata": {
        "id": "TKF0hKWvE9N7"
      },
      "source": [
        "1.1) Gerar amostras aleatórias jogando N vezes um único dado (considerando igual probabilidade para cada valor do dado). <br>\n",
        "a) Primeiramente, jogue o dado 10 vezes. (help randi) <br>\n",
        "b) Plote o histograma dos resultados obtidos.(help hist, help bar)"
      ]
    },
    {
      "cell_type": "code",
      "metadata": {
        "id": "BTiGNOV-Es9e",
        "outputId": "b07adcac-cbd6-44bf-a472-9e60223c050f",
        "colab": {
          "base_uri": "https://localhost:8080/",
          "height": 34
        }
      },
      "source": [
        "#a)\n",
        "result_list = np.random.choice(np.arange(1, 7),size = 10, p=np.repeat(1/6, 6))\n",
        "pprint(result_list)\n",
        "# 1 to 7 so \"0\" isn't an option\n",
        "# each face has an equal 1/6 prob of landing"
      ],
      "execution_count": 6,
      "outputs": [
        {
          "output_type": "stream",
          "text": [
            "array([3, 1, 4, 6, 5, 1, 3, 1, 4, 6])\n"
          ],
          "name": "stdout"
        }
      ]
    },
    {
      "cell_type": "code",
      "metadata": {
        "id": "gNp69VDNGTUX",
        "outputId": "f6a48675-8326-4bbb-bac4-d0b970c14cb0",
        "colab": {
          "base_uri": "https://localhost:8080/",
          "height": 316
        }
      },
      "source": [
        "#b)\n",
        "plt.hist(result_list)"
      ],
      "execution_count": 7,
      "outputs": [
        {
          "output_type": "execute_result",
          "data": {
            "text/plain": [
              "(array([3., 0., 0., 0., 2., 0., 2., 0., 1., 2.]),\n",
              " array([1. , 1.5, 2. , 2.5, 3. , 3.5, 4. , 4.5, 5. , 5.5, 6. ]),\n",
              " <a list of 10 Patch objects>)"
            ]
          },
          "metadata": {
            "tags": []
          },
          "execution_count": 7
        },
        {
          "output_type": "display_data",
          "data": {
            "image/png": "[encoded data removed]",
            "text/plain": [
              "<Figure size 432x288 with 1 Axes>"
            ]
          },
          "metadata": {
            "tags": [],
            "needs_background": "light"
          }
        }
      ]
    },
    {
      "cell_type": "markdown",
      "metadata": {
        "id": "pY91vJA4GSim"
      },
      "source": [
        "1.2) Pode-se normalizar os valores do histograma com N para que possa ser obtida a função densidade de probabilidade (pdf)estimada (ou seja, a soma dos bins do histograma deve ser igual a um). <br>\n",
        "a) Plote o histograma normalizado (pdf estimada). <br>\n",
        "b) Defina a verdadeira pdf para o dado justo e plote junto com a pdf estimada (na mesma figura). <br>\n",
        "c) A verdadeira pdf e a estimada pdf são iguais?"
      ]
    },
    {
      "cell_type": "code",
      "metadata": {
        "id": "BFpTkpOuGzON",
        "outputId": "a748bae8-3257-4e0f-8198-b438e004a4fa",
        "colab": {
          "base_uri": "https://localhost:8080/",
          "height": 282
        }
      },
      "source": [
        "#a) & b)\n",
        "plt.hist(result_list, bins=6, density = True)\n",
        "plt.axhline(y=1/6) #expected mean"
      ],
      "execution_count": 20,
      "outputs": [
        {
          "output_type": "execute_result",
          "data": {
            "text/plain": [
              "<matplotlib.lines.Line2D at 0x7f579a8f7c88>"
            ]
          },
          "metadata": {
            "tags": []
          },
          "execution_count": 20
        },
        {
          "output_type": "display_data",
          "data": {
            "image/png": "[encoded data removed]",
            "text/plain": [
              "<Figure size 432x288 with 1 Axes>"
            ]
          },
          "metadata": {
            "tags": [],
            "needs_background": "light"
          }
        }
      ]
    },
    {
      "cell_type": "markdown",
      "metadata": {
        "id": "6MEVvxzvKUdq"
      },
      "source": [
        "c) A PDF obtida a partir da normalização do histograma de resultados é bastante diferente da ideal. Por um outro lado, oom um número maior de ensaios esta discrepância tende a diminuir."
      ]
    },
    {
      "cell_type": "code",
      "metadata": {
        "id": "h71vc2ysH8DD",
        "outputId": "4758f14d-8e0d-4538-dd87-60fad5997b07",
        "colab": {
          "base_uri": "https://localhost:8080/",
          "height": 863
        }
      },
      "source": [
        "f, axs = plt.subplots(2,2,figsize=(10,15))\n",
        "for i in range(3):\n",
        " new_list = np.random.choice(np.arange(1, 7),size = 1000000, p=np.repeat(1/6, 6))\n",
        " plt.subplot(3, 1, (i+1))\n",
        " plt.hist(new_list,bins = 6,density = True)\n",
        " plt.axhline(y=1/6)\n",
        "plt.show()"
      ],
      "execution_count": 27,
      "outputs": [
        {
          "output_type": "display_data",
          "data": {
            "image/png": "[encoded data removed]",
            "text/plain": [
              "<Figure size 720x1080 with 3 Axes>"
            ]
          },
          "metadata": {
            "tags": [],
            "needs_background": "light"
          }
        }
      ]
    },
    {
      "cell_type": "markdown",
      "metadata": {
        "id": "tV2ZGzuNMQL6"
      },
      "source": [
        "# Q2"
      ]
    },
    {
      "cell_type": "markdown",
      "metadata": {
        "id": "ZpbtXzk3MqxO"
      },
      "source": [
        "2.1) Gerar amostras aleatórias jogando o dado, onde a probabilidade para o valor 6 é 1/4 e para os demais valores são equiprováveis. <br>\n",
        "a) primeiro, jogue o dado por 10 vezes."
      ]
    },
    {
      "cell_type": "code",
      "metadata": {
        "id": "jD0ZKd_NMTFb",
        "outputId": "f9878c78-4333-4119-e041-2b618914642f",
        "colab": {
          "base_uri": "https://localhost:8080/",
          "height": 34
        }
      },
      "source": [
        "#a)\n",
        "unfair_list = np.random.choice(np.arange(1, 7),size = 10, p=[0.15 ,0.15 ,0.15 ,0.15 ,0.15,0.25])\n",
        "pprint(unfair_list)"
      ],
      "execution_count": 28,
      "outputs": [
        {
          "output_type": "stream",
          "text": [
            "array([4, 5, 4, 6, 4, 3, 4, 2, 2, 5])\n"
          ],
          "name": "stdout"
        }
      ]
    },
    {
      "cell_type": "markdown",
      "metadata": {
        "id": "CMPZT9-eT0zL"
      },
      "source": [
        "2.2) Plote o histograma normalizado."
      ]
    },
    {
      "cell_type": "code",
      "metadata": {
        "id": "Vm-06qPgNAcE",
        "outputId": "7404712e-8288-4c23-8660-5fd42880a2fd",
        "colab": {
          "base_uri": "https://localhost:8080/",
          "height": 333
        }
      },
      "source": [
        "plt.hist(unfair_list, bins=6, density = True)"
      ],
      "execution_count": 37,
      "outputs": [
        {
          "output_type": "execute_result",
          "data": {
            "text/plain": [
              "(array([0.3 , 0.15, 0.  , 0.6 , 0.3 , 0.15]),\n",
              " array([2.        , 2.66666667, 3.33333333, 4.        , 4.66666667,\n",
              "        5.33333333, 6.        ]),\n",
              " <a list of 6 Patch objects>)"
            ]
          },
          "metadata": {
            "tags": []
          },
          "execution_count": 37
        },
        {
          "output_type": "display_data",
          "data": {
            "image/png": "[encoded data removed]",
            "text/plain": [
              "<Figure size 432x288 with 1 Axes>"
            ]
          },
          "metadata": {
            "tags": [],
            "needs_background": "light"
          }
        }
      ]
    },
    {
      "cell_type": "markdown",
      "metadata": {
        "id": "Gt96w8jMYArz"
      },
      "source": [
        "2.3) Definir a pdf verdadeira para o dado desbalanceado e plote junto com a pdf estimada."
      ]
    },
    {
      "cell_type": "code",
      "metadata": {
        "id": "bUal0n6UVVB7",
        "outputId": "9be7be4e-272b-46b6-f2bc-c4f0f896d9cc",
        "colab": {
          "base_uri": "https://localhost:8080/",
          "height": 265
        }
      },
      "source": [
        "plt.hist(unfair_list, bins=6, density = True)\n",
        "for face in np.arange(1, 7):\n",
        "  if face == 6:\n",
        "    plt.vlines(x=face,ymin = 0,ymax =0.25)\n",
        "  else:\n",
        "    plt.vlines(x=face,ymin = 0,ymax =0.15)\n"
      ],
      "execution_count": 35,
      "outputs": [
        {
          "output_type": "display_data",
          "data": {
            "image/png": "[encoded data removed]",
            "text/plain": [
              "<Figure size 432x288 with 1 Axes>"
            ]
          },
          "metadata": {
            "tags": [],
            "needs_background": "light"
          }
        }
      ]
    },
    {
      "cell_type": "markdown",
      "metadata": {
        "id": "f2I3_yy7ggak"
      },
      "source": [
        "# Q3"
      ]
    },
    {
      "cell_type": "markdown",
      "metadata": {
        "id": "VwiHk7QqgxId"
      },
      "source": [
        "3.1) Gerar 10.000 amostras para a variável X.(help randn)."
      ]
    },
    {
      "cell_type": "code",
      "metadata": {
        "id": "HbQCmmBcgh9f",
        "outputId": "58925a88-15d5-4e3d-d5ba-ea3d27758994",
        "colab": {
          "base_uri": "https://localhost:8080/",
          "height": 51
        }
      },
      "source": [
        "X = np.random.randn(10000)\n",
        "pprint(X)"
      ],
      "execution_count": 38,
      "outputs": [
        {
          "output_type": "stream",
          "text": [
            "array([ 0.64455207,  2.31766451,  1.59076335, ..., -1.47304114,\n",
            "       -0.52072342, -0.13643435])\n"
          ],
          "name": "stdout"
        }
      ]
    },
    {
      "cell_type": "markdown",
      "metadata": {
        "id": "w5lFLeo6hJeJ"
      },
      "source": [
        "3.2) Calcular as seguintes estatísticas das amostras observadas:\n",
        "- média (ou valor esperado) (help mean). \n",
        "- desvio padrão (help std).\n",
        "- variância (help var). "
      ]
    },
    {
      "cell_type": "code",
      "metadata": {
        "id": "6_jXWwJ3hKYk",
        "outputId": "2ef59706-239b-4c86-c6bf-e735e529610c",
        "colab": {
          "base_uri": "https://localhost:8080/",
          "height": 68
        }
      },
      "source": [
        "meanX = np.mean(X) #média de x\n",
        "stdX = np.std(X) #desvio padrão de x\n",
        "varX = np.var(X) #variância de x\n",
        "pprint('Média de X: {}'.format(meanX))\n",
        "pprint('Desvio P de X: {}'.format(stdX))\n",
        "pprint('Variância de X: {}'.format(varX))"
      ],
      "execution_count": 41,
      "outputs": [
        {
          "output_type": "stream",
          "text": [
            "'Média de X: 0.0063566832484638364'\n",
            "'Desvio P de X: 1.0039453490188246'\n",
            "'Variância de X: 1.0079062638165297'\n"
          ],
          "name": "stdout"
        }
      ]
    },
    {
      "cell_type": "markdown",
      "metadata": {
        "id": "Q-uzvi0giO7C"
      },
      "source": [
        "3.3) Plotar o histograma normalizado. <br>\n",
        "a) Note, agora, que a pdf não é discreta e a assim deve-se usar valores suficientemente baixos para o passo do eixo-x, de maneira de fornecer um bom gráfico. (dica: use um passo de 0.1 para o eixo-x). "
      ]
    },
    {
      "cell_type": "code",
      "metadata": {
        "id": "BEskIA9riTaO",
        "outputId": "9b5cee7f-a8c4-4098-cfcb-d2f4aadbf8c2",
        "colab": {
          "base_uri": "https://localhost:8080/",
          "height": 265
        }
      },
      "source": [
        "plt.hist(X, bins=80,density = True) # 0.1 step -> [-4,4] -> 80 bins\n",
        "ticks = plt.xticks()[0]"
      ],
      "execution_count": 58,
      "outputs": [
        {
          "output_type": "display_data",
          "data": {
            "image/png": "[encoded data removed]",
            "text/plain": [
              "<Figure size 432x288 with 1 Axes>"
            ]
          },
          "metadata": {
            "tags": [],
            "needs_background": "light"
          }
        }
      ]
    },
    {
      "cell_type": "markdown",
      "metadata": {
        "id": "VsQAZRVWjSlE"
      },
      "source": [
        "# Q4"
      ]
    },
    {
      "cell_type": "markdown",
      "metadata": {
        "id": "SArrm93ajeRq"
      },
      "source": [
        "4.1) Repetir o exercício anterior, porém, em vez de usar X˜(0,1), use X~(μ,σˆ2),em que μ=2 e σˆ2=4."
      ]
    },
    {
      "cell_type": "code",
      "metadata": {
        "id": "GlStmwf7jUJb",
        "outputId": "fa81badd-ad6e-487e-84bc-c6e168167861",
        "colab": {
          "base_uri": "https://localhost:8080/",
          "height": 265
        }
      },
      "source": [
        "X2 = 2*np.random.randn(100000) + 2\n",
        "meanX2 = np.mean(X2)\n",
        "stdX2 = np.std(X2)\n",
        "varX2 = np.var(X2)\n",
        "plt.hist(X2, bins=80,density = True)\n",
        "ticks2 = plt.xticks()[0]\n",
        "plt.show()"
      ],
      "execution_count": 59,
      "outputs": [
        {
          "output_type": "display_data",
          "data": {
            "image/png": "[encoded data removed]",
            "text/plain": [
              "<Figure size 432x288 with 1 Axes>"
            ]
          },
          "metadata": {
            "tags": [],
            "needs_background": "light"
          }
        }
      ]
    },
    {
      "cell_type": "code",
      "metadata": {
        "id": "U5gziL77rw5x",
        "outputId": "cf306f68-6f11-4ecc-8557-01d7608648c7",
        "colab": {
          "base_uri": "https://localhost:8080/",
          "height": 68
        }
      },
      "source": [
        "pprint('Média de X2: {}'.format(meanX2))\n",
        "pprint('Desvio P de X2: {}'.format(stdX2))\n",
        "pprint('Variância de X2: {}'.format(varX2))"
      ],
      "execution_count": 60,
      "outputs": [
        {
          "output_type": "stream",
          "text": [
            "'Média de X2: 1.998776496186127'\n",
            "'Desvio P de X2: 1.993325976927716'\n",
            "'Variância de X2: 3.973348450294834'\n"
          ],
          "name": "stdout"
        }
      ]
    },
    {
      "cell_type": "markdown",
      "metadata": {
        "id": "DalpcvDmsOtz"
      },
      "source": [
        "4.2) Note que o eixo-x do histograma deve ser definido, de tal forma, que todas (ou grande maioria) as amostras estejam dentro dos limites do eixo-x. (dica: a função hist ajuda a estimar esses limites ou pode-se explorar as funções min(x) e max(x)"
      ]
    },
    {
      "cell_type": "code",
      "metadata": {
        "id": "mJiuxEqRsTE1",
        "outputId": "458db8ad-ff24-4e47-b2dd-05938302dc3a",
        "colab": {
          "base_uri": "https://localhost:8080/",
          "height": 85
        }
      },
      "source": [
        "pprint(max(X2))\n",
        "pprint(min(X2))\n",
        "print('\\nPortanto, todas as amostras de X2 estão compreendidas no histograma acima.')"
      ],
      "execution_count": 63,
      "outputs": [
        {
          "output_type": "stream",
          "text": [
            "10.035798740404095\n",
            "-6.38193999926278\n",
            "\n",
            "Portanto, todas as amostras de X2 estão compreendidas no histograma acima.\n"
          ],
          "name": "stdout"
        }
      ]
    },
    {
      "cell_type": "markdown",
      "metadata": {
        "id": "PbID8PDXskLp"
      },
      "source": [
        "# Q5"
      ]
    },
    {
      "cell_type": "markdown",
      "metadata": {
        "id": "3BQzsduiso7m"
      },
      "source": [
        "5.1) Definir a probabilidade P(a<X<b), em que a=2 e b=6. (helpqfunc). "
      ]
    },
    {
      "cell_type": "code",
      "metadata": {
        "id": "ybYD-nxMsln9",
        "outputId": "eb1226a6-91a5-46b3-f7ff-159d8c624b24",
        "colab": {
          "base_uri": "https://localhost:8080/",
          "height": 34
        }
      },
      "source": [
        "prob1=stats.norm.sf((2-meanX2)/stdX2)-norm.sf((6-meanX2)/stdX2)\n",
        "pprint('P(2<X2<6): {}'.format(prob1))"
      ],
      "execution_count": 66,
      "outputs": [
        {
          "output_type": "stream",
          "text": [
            "'P(2<X2<6): 0.4773968056571514'\n"
          ],
          "name": "stdout"
        }
      ]
    },
    {
      "cell_type": "markdown",
      "metadata": {
        "id": "KMlZRun2tZIK"
      },
      "source": [
        "5.2) Calcular a probabilidade P(X<a) e P(X>b)."
      ]
    },
    {
      "cell_type": "code",
      "metadata": {
        "id": "q0SrXP89tNLx",
        "outputId": "8a4a7784-79cd-4c33-ced0-ee9dfe34aa7c",
        "colab": {
          "base_uri": "https://localhost:8080/",
          "height": 51
        }
      },
      "source": [
        "proba=1 - stats.norm.sf((2-meanX2)//stdX2)\n",
        "probb= stats.norm.sf((6-meanX2)//stdX2)\n",
        "pprint('P(X2<2): {}'.format(proba))\n",
        "pprint('P(6<X2): {}'.format(probb))"
      ],
      "execution_count": 80,
      "outputs": [
        {
          "output_type": "stream",
          "text": [
            "'P(X2<2): 0.5'\n",
            "'P(6<X2): 0.022750131948179195'\n"
          ],
          "name": "stdout"
        }
      ]
    },
    {
      "cell_type": "markdown",
      "metadata": {
        "id": "x7yNzv-fviML"
      },
      "source": [
        "5.3) Checar numericamente que a soma das probabilidades deve ser igual a 1, ou seja, que P(-∞<X<∞) = P(X<a) + P(a<X<b) + P(X>b) = 1. "
      ]
    },
    {
      "cell_type": "code",
      "metadata": {
        "id": "1QgQCehDuDpu",
        "outputId": "4f75b576-c4ae-4ad9-b0a0-4c4703c82679",
        "colab": {
          "base_uri": "https://localhost:8080/",
          "height": 85
        }
      },
      "source": [
        "prob_total = prob1 + proba + probb\n",
        "pprint(prob_total)\n",
        "offset_pct = abs(1 - prob_total) * 100\n",
        "pprint('Offset: {}%'.format(offset_pct))\n",
        "pprint('Portanto, a soma pode ser considerada igual a 1 e os cálculos passados são válidos.')"
      ],
      "execution_count": 85,
      "outputs": [
        {
          "output_type": "stream",
          "text": [
            "1.0001469376053305\n",
            "'Offset: 0.014693760533046607%'\n",
            "('Portanto, a soma pode ser considerada igual a 1 e os cálculos passados são '\n",
            " 'válidos.')\n"
          ],
          "name": "stdout"
        }
      ]
    },
    {
      "cell_type": "markdown",
      "metadata": {
        "id": "ob7hCzJfwh04"
      },
      "source": [
        "# Q6"
      ]
    },
    {
      "cell_type": "markdown",
      "metadata": {
        "id": "fl6vXEacw1ze"
      },
      "source": [
        "A Distribuição Normal é uma escolha intuitiva para modelagem de sinais ruidosos em sistemas de comunicação. Em muitos modelos de sistemas, é frequentemente difícil, ou mesmo impossível, definir todas as fontes de ruídos isoladamente. No entanto, baseado no Teorema de Limite Central, uma distribuição da soma de variáveis aleatórias aproxima-se de uma distribuição normal, com o\n",
        "incremento do número de variáveis somadas envolvidas. Ou seja, a distribuição de X1, X2+...+XK aproxima-se de uma distribuição normal com o aumento de K. "
      ]
    },
    {
      "cell_type": "markdown",
      "metadata": {
        "id": "9lLimef8xDiF"
      },
      "source": [
        "6.1) Pode-se observar este fato com o exemplo do dado justo, visto anteriormente. Em vez de jogar o dado uma vez, faz-se K vezes e observa-se a soma das jogadas. Por exemplo, com 2 (dois) dados, X1 e X2, a variável aleatória seria Z = X1 + X2, em que os valores estariam entre 2 e 12. "
      ]
    },
    {
      "cell_type": "code",
      "metadata": {
        "id": "kHKu9fpfwk9e"
      },
      "source": [
        "def z_dice(throws):\n",
        "  x1 = np.random.choice(np.arange(1, 7),size = throws)\n",
        "  x2 = np.random.choice(np.arange(1, 7),size = throws)\n",
        "  return x1+x2"
      ],
      "execution_count": 87,
      "outputs": []
    },
    {
      "cell_type": "markdown",
      "metadata": {
        "id": "-WmnJ6Ujy_ka"
      },
      "source": [
        "6.2) Gerar amostras de valores aleatórios para Z (soma dos dados) jogando-os 20 vezes."
      ]
    },
    {
      "cell_type": "code",
      "metadata": {
        "id": "4qXz451UyTRx",
        "outputId": "7da9bd59-144b-4233-fba3-08790a4e6efc",
        "colab": {
          "base_uri": "https://localhost:8080/",
          "height": 51
        }
      },
      "source": [
        "z_list = z_dice(20)\n",
        "pprint(z_list)"
      ],
      "execution_count": 88,
      "outputs": [
        {
          "output_type": "stream",
          "text": [
            "array([ 6,  5,  4,  8,  7, 10,  7,  8,  2,  9,  8,  6,  6,  7,  3, 11,  3,\n",
            "       11, 12,  9])\n"
          ],
          "name": "stdout"
        }
      ]
    },
    {
      "cell_type": "markdown",
      "metadata": {
        "id": "74hjC97zzHju"
      },
      "source": [
        "6.3) Repita o experimento por 10.000 vezes e plote o histograma de Z."
      ]
    },
    {
      "cell_type": "code",
      "metadata": {
        "id": "5t8cTHUOzEnt",
        "outputId": "df6f84bb-6180-40e3-98d4-da4fc189a479",
        "colab": {
          "base_uri": "https://localhost:8080/",
          "height": 265
        }
      },
      "source": [
        "mega_z_list = z_dice(10000)\n",
        "plt.hist(mega_z_list, bins=80,density = True)\n",
        "ticks = plt.xticks()[0] "
      ],
      "execution_count": 98,
      "outputs": [
        {
          "output_type": "display_data",
          "data": {
            "image/png": "[encoded data removed]",
            "text/plain": [
              "<Figure size 432x288 with 1 Axes>"
            ]
          },
          "metadata": {
            "tags": [],
            "needs_background": "light"
          }
        }
      ]
    },
    {
      "cell_type": "markdown",
      "metadata": {
        "id": "M7bR309iz8vN"
      },
      "source": [
        "6.4) Embora a pdf pela jogada do dado justo seja uma distribuição uniforme discreta, aqui a variável Z parece mais com uma distribuição Gaussiana (baseado no Teorema do Limite Central). Faz sentido? Qual é o valor esperado de Z? "
      ]
    },
    {
      "cell_type": "code",
      "metadata": {
        "id": "GwTNcspJzRij",
        "outputId": "24bc318e-c79a-4da8-f11c-13a9161e4853",
        "colab": {
          "base_uri": "https://localhost:8080/",
          "height": 102
        }
      },
      "source": [
        "pprint('A afirmação anterior corresponde com o que foi estudado em sala e demonstrado durante este trabalho de simulação. Com um número suficientemente elevado de lançamentos para os dados, seus valores se aproximam de uma distribuição normal bem como a soma que resulta em Z.')\n",
        "valor_esperado = np.mean(mega_z_list)\n",
        "pprint('Portanto, o valor esperado de Z é: {}'.format(valor_esperado))"
      ],
      "execution_count": 101,
      "outputs": [
        {
          "output_type": "stream",
          "text": [
            "('A afirmação anterior corresponde com o que foi estudado em sala e '\n",
            " 'demonstrado durante este trabalho de simulação. Com um número '\n",
            " 'suficientemente elevado de lançamentos para os dados, seus valores se '\n",
            " 'aproximam de uma distribuição normal bem como a soma que resulta em Z.')\n",
            "'Portanto, o valor esperado de Z é: 6.9711'\n"
          ],
          "name": "stdout"
        }
      ]
    }
  ]
}